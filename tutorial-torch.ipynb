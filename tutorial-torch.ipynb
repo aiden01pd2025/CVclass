{
 "cells": [
  {
   "cell_type": "code",
   "execution_count": 24,
   "id": "ba051706-18e9-487a-8e9a-1df9dc8f592f",
   "metadata": {},
   "outputs": [],
   "source": [
    "import torch\n",
    "import numpy as np\n",
    "import torch\n",
    "import torch.nn as nn\n",
    "import torch.nn.functional as F\n",
    "import torch.optim as optim\n",
    "from torch.autograd import Variable\n",
    "import matplotlib.pyplot as plt\n",
    "\n",
    "import pandas as pd\n",
    "import matplotlib.pyplot as plt\n",
    "import seaborn as sns\n",
    "%matplotlib inline\n",
    "from matplotlib import pyplot as plt"
   ]
  },
  {
   "cell_type": "markdown",
   "id": "dea8f555-f436-460a-a3f9-86a4054e2285",
   "metadata": {},
   "source": [
    "We download the data in the same way we did when using ````sklearn```` library.\n",
    "\n",
    "Note that here we also chagne the **data type** to ````torch.tensor````, because we want to use functions from the ````pytorch```` library."
   ]
  },
  {
   "cell_type": "code",
   "execution_count": 25,
   "id": "78c2b2c2-6ed2-41e0-a468-bf3f5a3e3c0a",
   "metadata": {},
   "outputs": [],
   "source": [
    "from sklearn import datasets\n",
    "digits = datasets.load_digits()\n",
    "img = digits.images\n",
    "labels = digits.target\n",
    "\n",
    "X = img.reshape((len(img),-1))\n",
    "from sklearn.model_selection import train_test_split\n",
    "test_size=0.2\n",
    "X_train, X_test, y_train, y_test = train_test_split(\n",
    "    X, labels, test_size = test_size, shuffle=False)\n",
    "\n",
    "X_train = X_train.astype(np.float32)\n",
    "X_train = torch.tensor(X_train)\n",
    "X_test = torch.tensor(X_test)\n",
    "y_train = torch.tensor(y_train)\n",
    "y_train=y_train.long()\n",
    "MLPClassifiery_test = torch.tensor(y_test)"
   ]
  },
  {
   "cell_type": "markdown",
   "id": "ff25c4f5-0e61-4be0-b30f-6cd402a77c98",
   "metadata": {},
   "source": [
    "### Q1 \n",
    "\n",
    "Let's build a ````Network```` class. This will be your model.\n",
    "\n",
    "You will need\n",
    "* ````__init__```` function defining the attributes. These attributes should be the different layers of your model.\n",
    "* You can define a linear (fully-connected) layer using ````Linear(input_size,output_size)```` function from \"torch.nn\" library (imported as \"nn\")\n",
    "* You can define an activation function using ````ReLU()```` function, also from \"torch.nn\" library\n",
    "* ````forward```` function, defining how the input is processed in the forward pass, layer by layer."
   ]
  },
  {
   "cell_type": "code",
   "execution_count": 26,
   "id": "9d999c7d-30e9-45eb-87af-39cb81e9feec",
   "metadata": {},
   "outputs": [],
   "source": [
    "class Network(nn.Module):\n",
    "    def __init__(self,input_size,output_size):\n",
    "        super(Network, self).__init__()\n",
    "        linear_layer = Linear(input_size,output_size)\n",
    "    \n",
    "        self.relu=nn.ReLU()\n",
    "    def activation(self, x):\n",
    "        return self.relu(self.linear_layer(x))"
   ]
  },
  {
   "cell_type": "markdown",
   "id": "48b3b708-0fff-4f3b-bf36-630b99d09184",
   "metadata": {},
   "source": [
    "### Q2\n",
    "Define your model as instance of your Network class."
   ]
  },
  {
   "cell_type": "code",
   "execution_count": 27,
   "id": "06b7212d-a68f-4322-a00c-545865ef74b3",
   "metadata": {},
   "outputs": [
    {
     "ename": "NameError",
     "evalue": "name 'Linear' is not defined",
     "output_type": "error",
     "traceback": [
      "\u001b[0;31m---------------------------------------------------------------------------\u001b[0m",
      "\u001b[0;31mNameError\u001b[0m                                 Traceback (most recent call last)",
      "\u001b[0;32m<ipython-input-27-69ed76d2b532>\u001b[0m in \u001b[0;36m<module>\u001b[0;34m\u001b[0m\n\u001b[0;32m----> 1\u001b[0;31m \u001b[0mmodel\u001b[0m \u001b[0;34m=\u001b[0m \u001b[0mNetwork\u001b[0m\u001b[0;34m(\u001b[0m\u001b[0;36m32\u001b[0m\u001b[0;34m,\u001b[0m\u001b[0;36m16\u001b[0m\u001b[0;34m)\u001b[0m\u001b[0;34m\u001b[0m\u001b[0;34m\u001b[0m\u001b[0m\n\u001b[0m",
      "\u001b[0;32m<ipython-input-26-d2c5b7411ab7>\u001b[0m in \u001b[0;36m__init__\u001b[0;34m(self, input_size, output_size)\u001b[0m\n\u001b[1;32m      2\u001b[0m     \u001b[0;32mdef\u001b[0m \u001b[0m__init__\u001b[0m\u001b[0;34m(\u001b[0m\u001b[0mself\u001b[0m\u001b[0;34m,\u001b[0m\u001b[0minput_size\u001b[0m\u001b[0;34m,\u001b[0m\u001b[0moutput_size\u001b[0m\u001b[0;34m)\u001b[0m\u001b[0;34m:\u001b[0m\u001b[0;34m\u001b[0m\u001b[0;34m\u001b[0m\u001b[0m\n\u001b[1;32m      3\u001b[0m         \u001b[0msuper\u001b[0m\u001b[0;34m(\u001b[0m\u001b[0mNetwork\u001b[0m\u001b[0;34m,\u001b[0m \u001b[0mself\u001b[0m\u001b[0;34m)\u001b[0m\u001b[0;34m.\u001b[0m\u001b[0m__init__\u001b[0m\u001b[0;34m(\u001b[0m\u001b[0;34m)\u001b[0m\u001b[0;34m\u001b[0m\u001b[0;34m\u001b[0m\u001b[0m\n\u001b[0;32m----> 4\u001b[0;31m         \u001b[0mlinear_layer\u001b[0m \u001b[0;34m=\u001b[0m \u001b[0mLinear\u001b[0m\u001b[0;34m(\u001b[0m\u001b[0minput_size\u001b[0m\u001b[0;34m,\u001b[0m\u001b[0moutput_size\u001b[0m\u001b[0;34m)\u001b[0m\u001b[0;34m\u001b[0m\u001b[0;34m\u001b[0m\u001b[0m\n\u001b[0m\u001b[1;32m      5\u001b[0m \u001b[0;34m\u001b[0m\u001b[0m\n\u001b[1;32m      6\u001b[0m         \u001b[0mself\u001b[0m\u001b[0;34m.\u001b[0m\u001b[0mrelu\u001b[0m\u001b[0;34m=\u001b[0m\u001b[0mnn\u001b[0m\u001b[0;34m.\u001b[0m\u001b[0mReLU\u001b[0m\u001b[0;34m(\u001b[0m\u001b[0;34m)\u001b[0m\u001b[0;34m\u001b[0m\u001b[0;34m\u001b[0m\u001b[0m\n",
      "\u001b[0;31mNameError\u001b[0m: name 'Linear' is not defined"
     ]
    }
   ],
   "source": [
    "model = Network(32,16)"
   ]
  },
  {
   "cell_type": "markdown",
   "id": "c4c9c0e9-94da-42fc-b321-873e044b0cf7",
   "metadata": {},
   "source": [
    "Below we define the optimized and loss function.\n",
    "\n",
    "*For now you can just use this as it is. As you learn more about Machine Learning, you might want to experiment with changing different parameters in this setup, or even picking a different loss function and a better optimizer.*\n",
    "\n",
    "*It takes a lot of experience to learn all bits and pieces of this machinery, and all programmers spend a long time just copy+paste-ing this default setup to their code.*\n",
    "\n",
    "*The rule of thumb is: if it works well, let's use it and see what happens!*"
   ]
  },
  {
   "cell_type": "code",
   "execution_count": 28,
   "id": "64fb26e4-1fb4-43ed-ac86-b7737319b770",
   "metadata": {},
   "outputs": [
    {
     "ename": "NameError",
     "evalue": "name 'model' is not defined",
     "output_type": "error",
     "traceback": [
      "\u001b[0;31m---------------------------------------------------------------------------\u001b[0m",
      "\u001b[0;31mNameError\u001b[0m                                 Traceback (most recent call last)",
      "\u001b[0;32m<ipython-input-28-edfdf203c9a0>\u001b[0m in \u001b[0;36m<module>\u001b[0;34m\u001b[0m\n\u001b[1;32m      1\u001b[0m \u001b[0mlearning_rate\u001b[0m \u001b[0;34m=\u001b[0m\u001b[0;36m0.001\u001b[0m\u001b[0;34m\u001b[0m\u001b[0;34m\u001b[0m\u001b[0m\n\u001b[1;32m      2\u001b[0m \u001b[0mepochs\u001b[0m \u001b[0;34m=\u001b[0m \u001b[0;36m200\u001b[0m\u001b[0;34m\u001b[0m\u001b[0;34m\u001b[0m\u001b[0m\n\u001b[0;32m----> 3\u001b[0;31m \u001b[0moptimizer\u001b[0m \u001b[0;34m=\u001b[0m \u001b[0moptim\u001b[0m\u001b[0;34m.\u001b[0m\u001b[0mSGD\u001b[0m\u001b[0;34m(\u001b[0m\u001b[0mmodel\u001b[0m\u001b[0;34m.\u001b[0m\u001b[0mparameters\u001b[0m\u001b[0;34m(\u001b[0m\u001b[0;34m)\u001b[0m\u001b[0;34m,\u001b[0m \u001b[0mlr\u001b[0m\u001b[0;34m=\u001b[0m\u001b[0mlearning_rate\u001b[0m\u001b[0;34m,\u001b[0m \u001b[0mmomentum\u001b[0m\u001b[0;34m=\u001b[0m\u001b[0;36m0.9\u001b[0m\u001b[0;34m)\u001b[0m\u001b[0;34m\u001b[0m\u001b[0;34m\u001b[0m\u001b[0m\n\u001b[0m\u001b[1;32m      4\u001b[0m \u001b[0mloss_func\u001b[0m \u001b[0;34m=\u001b[0m \u001b[0mnn\u001b[0m\u001b[0;34m.\u001b[0m\u001b[0mCrossEntropyLoss\u001b[0m\u001b[0;34m(\u001b[0m\u001b[0;34m)\u001b[0m\u001b[0;34m\u001b[0m\u001b[0;34m\u001b[0m\u001b[0m\n",
      "\u001b[0;31mNameError\u001b[0m: name 'model' is not defined"
     ]
    }
   ],
   "source": [
    "learning_rate =0.001\n",
    "epochs = 200\n",
    "optimizer = optim.SGD(model.parameters(), lr=learning_rate, momentum=0.9)\n",
    "loss_func = nn.CrossEntropyLoss()"
   ]
  },
  {
   "cell_type": "markdown",
   "id": "99593030-0609-4fed-841e-5307a2db13a3",
   "metadata": {},
   "source": [
    "### Q3\n",
    "Model training.\n",
    "\n",
    "You will train your model in a loop. Loop should be over epochs (\"training epochs\"). We will do this step by step."
   ]
  },
  {
   "cell_type": "code",
   "execution_count": 29,
   "id": "1d9d798a-01fb-4c77-8028-b417a343e313",
   "metadata": {},
   "outputs": [
    {
     "ename": "NameError",
     "evalue": "name 'optimizer' is not defined",
     "output_type": "error",
     "traceback": [
      "\u001b[0;31m---------------------------------------------------------------------------\u001b[0m",
      "\u001b[0;31mNameError\u001b[0m                                 Traceback (most recent call last)",
      "\u001b[0;32m<ipython-input-29-e5dbf7090c3d>\u001b[0m in \u001b[0;36m<module>\u001b[0;34m\u001b[0m\n\u001b[1;32m      3\u001b[0m \u001b[0;34m\u001b[0m\u001b[0m\n\u001b[1;32m      4\u001b[0m     \u001b[0;31m## first, at the beginning of the loop, make sure that the optimizer kills all previous grad values to avoid using them again in your new iteration\u001b[0m\u001b[0;34m\u001b[0m\u001b[0;34m\u001b[0m\u001b[0;34m\u001b[0m\u001b[0m\n\u001b[0;32m----> 5\u001b[0;31m     \u001b[0moptimizer\u001b[0m\u001b[0;34m.\u001b[0m\u001b[0mzero_grad\u001b[0m\u001b[0;34m(\u001b[0m\u001b[0;34m)\u001b[0m\u001b[0;34m\u001b[0m\u001b[0;34m\u001b[0m\u001b[0m\n\u001b[0m\u001b[1;32m      6\u001b[0m \u001b[0;34m\u001b[0m\u001b[0m\n\u001b[1;32m      7\u001b[0m     \u001b[0;31m# now, perform the forward step by applying your model to your dataset\u001b[0m\u001b[0;34m\u001b[0m\u001b[0;34m\u001b[0m\u001b[0;34m\u001b[0m\u001b[0m\n",
      "\u001b[0;31mNameError\u001b[0m: name 'optimizer' is not defined"
     ]
    }
   ],
   "source": [
    "loss_list=[]\n",
    "for e in range(epochs):\n",
    "    \n",
    "    ## first, at the beginning of the loop, make sure that the optimizer kills all previous grad values to avoid using them again in your new iteration\n",
    "    optimizer.zero_grad()\n",
    "    \n",
    "    # now, perform the forward step by applying your model to your dataset\n",
    "    output = model.forward(X_train)\n",
    "    \n",
    "    # calculate the loss, using the \"loss_func\" applied to the output from your model compared with the real labels\n",
    "    loss=loss_func(output,y_train)\n",
    "    l=float('{:.6f}'.format(loss))\n",
    "    loss_list.append(l)\n",
    "    \n",
    "    # MAGIC time: perform the back-prop:\n",
    "    loss.backward()\n",
    "    optimizer.step()\n",
    "    \n",
    "    # at each step, let's print the value of the loss to see if it is changing.\n",
    "    if e%10==0:\n",
    "        print('Epoch: {} - Loss: {:.6f}'.format(e, loss))"
   ]
  },
  {
   "cell_type": "markdown",
   "id": "d708ba1d-aa4d-4f76-82bd-1df7278627a7",
   "metadata": {},
   "source": [
    "### Q4\n",
    "Modify your code so that\n",
    "* It only prints the value of the loss every 10 steps\n",
    "* saves down values of loss and values of accuracy at each epoch (each step)\n",
    "\n",
    "Then, plot on separate graphs \n",
    "* the accuracy as function of epochs\n",
    "* the loss as function of epochs\n",
    "\n",
    "Is the model training well?"
   ]
  },
  {
   "cell_type": "code",
   "execution_count": null,
   "id": "2c83fc25-c6c0-4463-a890-332bd7cf990f",
   "metadata": {},
   "outputs": [],
   "source": []
  }
 ],
 "metadata": {
  "kernelspec": {
   "display_name": "Python 3",
   "language": "python",
   "name": "python3"
  },
  "language_info": {
   "codemirror_mode": {
    "name": "ipython",
    "version": 3
   },
   "file_extension": ".py",
   "mimetype": "text/x-python",
   "name": "python",
   "nbconvert_exporter": "python",
   "pygments_lexer": "ipython3",
   "version": "3.8.8"
  }
 },
 "nbformat": 4,
 "nbformat_minor": 5
}
